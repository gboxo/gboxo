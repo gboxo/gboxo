{
 "cells": [
  {
   "cell_type": "code",
   "execution_count": 1,
   "metadata": {},
   "outputs": [
    {
     "name": "stderr",
     "output_type": "stream",
     "text": [
      "Some weights of the model checkpoint at bert-base-uncased were not used when initializing BertModel: ['cls.predictions.transform.LayerNorm.bias', 'cls.predictions.transform.dense.weight', 'cls.predictions.transform.LayerNorm.weight', 'cls.predictions.transform.dense.bias', 'cls.predictions.bias', 'cls.seq_relationship.weight', 'cls.seq_relationship.bias']\n",
      "- This IS expected if you are initializing BertModel from the checkpoint of a model trained on another task or with another architecture (e.g. initializing a BertForSequenceClassification model from a BertForPreTraining model).\n",
      "- This IS NOT expected if you are initializing BertModel from the checkpoint of a model that you expect to be exactly identical (initializing a BertForSequenceClassification model from a BertForSequenceClassification model).\n"
     ]
    }
   ],
   "source": [
    "import numpy as np\n",
    "from transformers import BertTokenizer, BertModel\n",
    "import torch\n",
    "from sklearn.cluster import AgglomerativeClustering\n",
    "import matplotlib.pyplot as plt\n",
    "from scipy.cluster.hierarchy import dendrogram\n",
    "from wordcloud import WordCloud\n",
    "import matplotlib.pyplot as plt\n",
    "from sklearn.cluster import KMeans\n",
    "import networkx as nx\n",
    "import community as community_louvain\n",
    "from sklearn.metrics.pairwise import cosine_similarity\n",
    "import tqdm\n",
    "\n",
    "# Load BERT model and tokenizer\n",
    "tokenizer = BertTokenizer.from_pretrained('bert-base-uncased')\n",
    "model = BertModel.from_pretrained('bert-base-uncased')\n",
    "\n",
    "# Get the entire vocabulary\n",
    "all_tokens = list(tokenizer.vocab.keys())\n",
    "word_embeddings = model.embeddings.word_embeddings.weight.detach().numpy()\n",
    "random_indices=np.random.randint(0,len(all_tokens),10000)\n",
    "\n",
    "subset_tokens=[all_tokens[i] for i in random_indices]\n",
    "subset_embeddings=word_embeddings[random_indices]\n"
   ]
  },
  {
   "cell_type": "markdown",
   "metadata": {},
   "source": [
    "### Aglomerative clustering"
   ]
  },
  {
   "cell_type": "code",
   "execution_count": null,
   "metadata": {},
   "outputs": [],
   "source": [
    "\n",
    "\n",
    "\n",
    "# Apply agglomerative clustering\n",
    "cluster_agglomerative = AgglomerativeClustering(affinity='euclidean',n_clusters=100 ,linkage='ward')\n",
    "cluster_agglomerative.fit(word_embeddings)\n"
   ]
  },
  {
   "cell_type": "code",
   "execution_count": null,
   "metadata": {},
   "outputs": [],
   "source": [
    "\n",
    "# Plot the dendrogram\n",
    "def plot_dendrogram(model, **kwargs):\n",
    "    counts = np.zeros(model.children_.shape[0])\n",
    "    n_samples = len(model.labels_)\n",
    "    for i, merge in enumerate(model.children_):\n",
    "        current_count = 0\n",
    "        for child_idx in merge:\n",
    "            if child_idx < n_samples:\n",
    "                current_count += 1\n",
    "            else:\n",
    "                current_count += counts[child_idx - n_samples]\n",
    "        counts[i] = current_count\n",
    "\n",
    "    linkage_matrix = np.column_stack([model.children_, model.distances_, counts]).astype(float)\n",
    "    dendrogram(linkage_matrix, **kwargs)\n",
    "\n",
    "plt.figure(figsize=(20, 10))\n",
    "plot_dendrogram(cluster, labels=subset_tokens, leaf_rotation=90.)\n",
    "plt.show()\n",
    "\n"
   ]
  },
  {
   "cell_type": "code",
   "execution_count": null,
   "metadata": {},
   "outputs": [],
   "source": [
    "\n",
    "labels = cluster_agglomerative.fit_predict(word_embeddings)\n",
    "n_clusters_desired=100\n",
    "# Create a word cloud for each cluster\n",
    "for cluster_id in range(n_clusters_desired):\n",
    "    words_in_cluster = [all_tokens[i] for i, label in enumerate(labels) if label == cluster_id]\n",
    "    wordcloud_text = ' '.join(words_in_cluster)\n",
    "\n",
    "    # Generate the word cloud\n",
    "    wordcloud = WordCloud(background_color='white', width=800, height=400).generate(wordcloud_text)\n",
    "\n",
    "    # Display the word cloud\n",
    "    plt.figure()\n",
    "    plt.imshow(wordcloud, interpolation='bilinear')\n",
    "    plt.axis('off')\n",
    "    plt.title(f'Cluster {cluster_id}')\n",
    "    plt.show()"
   ]
  },
  {
   "cell_type": "markdown",
   "metadata": {},
   "source": [
    "## Partitioing methods"
   ]
  },
  {
   "cell_type": "code",
   "execution_count": null,
   "metadata": {},
   "outputs": [],
   "source": [
    "\n",
    "\n",
    "# Load BERT model and tokenizer\n",
    "tokenizer = BertTokenizer.from_pretrained('bert-base-uncased')\n",
    "model = BertModel.from_pretrained('bert-base-uncased')\n",
    "\n",
    "# Get the entire vocabulary and embeddings\n",
    "all_tokens = list(tokenizer.vocab.keys())\n",
    "word_embeddings = model.embeddings.word_embeddings.weight.detach().numpy()\n",
    "\n",
    "# Apply K-means clustering\n",
    "n_clusters_desired = 100\n",
    "kmeans = KMeans(n_clusters=n_clusters_desired, random_state=0)\n",
    "labels_kmeans = kmeans.fit_predict(word_embeddings)\n",
    "\n",
    "\n",
    "\n"
   ]
  },
  {
   "cell_type": "code",
   "execution_count": null,
   "metadata": {},
   "outputs": [],
   "source": [
    "\n",
    "# Create a word cloud for each cluster\n",
    "for cluster_id in range(n_clusters_desired):\n",
    "    words_in_cluster = [all_tokens[i] for i, label in enumerate(labels) if label == cluster_id]\n",
    "    if len(words_in_cluster) == 0:\n",
    "        print(f\"No words in community {cluster_id}, skipping...\")\n",
    "        continue\n",
    "    wordcloud_text = ' '.join(words_in_cluster)\n",
    "\n",
    "    # Generate the word cloud\n",
    "    wordcloud = WordCloud(background_color='white', width=800, height=400).generate(wordcloud_text)\n",
    "\n",
    "    # Display the word cloud\n",
    "    plt.figure()\n",
    "    plt.imshow(wordcloud, interpolation='bilinear')\n",
    "    plt.axis('off')\n",
    "    plt.title(f'Cluster {cluster_id}')\n",
    "    plt.show()"
   ]
  },
  {
   "cell_type": "markdown",
   "metadata": {},
   "source": [
    "## Graph based methods"
   ]
  },
  {
   "cell_type": "code",
   "execution_count": null,
   "metadata": {},
   "outputs": [],
   "source": [
    "\n",
    "from collections import OrderedDict\n",
    "random_indices=np.random.randint(0,len(all_tokens),10000)\n",
    "\n",
    "subset_tokens=[all_tokens[i] for i in random_indices]\n",
    "subset_embeddings=word_embeddings[random_indices]\n",
    "similarity_matrix = cosine_similarity(subset_embeddings)\n",
    "\n",
    "G = nx.Graph()\n",
    "\n",
    "# Add edges to the graph (you can introduce a threshold to limit edges)\n",
    "#threshold = 0.65\n",
    "threshold = 0.5\n",
    "\n",
    "rows, cols = np.where(similarity_matrix > threshold)\n",
    "weights = similarity_matrix[rows, cols]\n",
    "\n",
    "edges = zip(rows, cols, weights)\n",
    "\n",
    "for i, j, weight in edges:\n",
    "    if i < j:\n",
    "        G.add_edge(subset_tokens[i], subset_tokens[j], weight=weight)\n",
    "# Apply the Louvain method\n",
    "partition = community_louvain.best_partition(G,resolution=0.2)\n",
    "\n",
    "# Create a word cloud for each community (cluster)\n",
    "communities = {}\n",
    "for node, community_id in partition.items():\n",
    "    if community_id not in communities:\n",
    "        communities[community_id] = []\n",
    "    communities[community_id].append(node)\n",
    "\n",
    "\n",
    "\n",
    "\n",
    "# Sort communities by the number of nodes they contain\n",
    "sorted_communities = OrderedDict(sorted(communities.items(), key=lambda x: len(x[1]), reverse=True))\n",
    "\n"
   ]
  },
  {
   "cell_type": "code",
   "execution_count": null,
   "metadata": {},
   "outputs": [],
   "source": [
    "\n",
    "for community_id, words_in_community in list(sorted_communities.items())[:50]:\n",
    "    if len(words_in_community) == 0:\n",
    "        print(f\"No words in community {community_id}, skipping...\")\n",
    "        continue  # Skip to the next iteration\n",
    "    else:\n",
    "        wordcloud_text = ' '.join(words_in_community)\n",
    "        try:\n",
    "            wordcloud = WordCloud(background_color='white', width=800, height=400).generate(wordcloud_text)\n",
    "        except ValueError as e:\n",
    "            print(f\"Error generating word cloud for community {community_id}: {e}\")\n",
    "            continue  # Skip to the next iteration\n",
    "\n",
    "        # Display the word cloud\n",
    "        plt.figure()\n",
    "        plt.imshow(wordcloud, interpolation='bilinear')\n",
    "        plt.axis('off')\n",
    "        plt.title(f'Community {community_id}')\n",
    "        plt.show()\n"
   ]
  },
  {
   "cell_type": "markdown",
   "metadata": {},
   "source": [
    "### Find the best threshold and the best resolution to maximize clusterability"
   ]
  },
  {
   "cell_type": "code",
   "execution_count": null,
   "metadata": {},
   "outputs": [],
   "source": [
    "import numpy as np\n",
    "import networkx as nx\n",
    "from sklearn.metrics.pairwise import cosine_similarity\n",
    "from tqdm import tqdm\n",
    "import community as community_louvain\n",
    "import matplotlib.pyplot as plt\n",
    "from wordcloud import WordCloud\n",
    "\n",
    "# Custom metric for evaluating communities\n",
    "def custom_metric(num_communities, node_counts):\n",
    "    # Score for even distribution. Could be mean, median, or other statistics.\n",
    "    evenness_score = np.mean(node_counts)\n",
    "    return num_communities * evenness_score\n",
    "\n",
    "# Generate a similarity matrix\n",
    "random_indices=np.random.randint(0,len(all_tokens),1000)\n",
    "\n",
    "subset_tokens=[all_tokens[i] for i in random_indices]\n",
    "subset_embeddings=word_embeddings[random_indices]\n",
    "similarity_matrix = cosine_similarity(subset_embeddings)\n",
    "\n",
    "best_metric = -1\n",
    "best_threshold = None\n",
    "best_resolution = None\n",
    "best_partition = None\n",
    "\n",
    "# Loop through possible thresholds and resolutions\n",
    "for threshold in tqdm(np.linspace(0.5, 0.9, 10)):  # Adjust as needed\n",
    "    for resolution in np.linspace(0.2, 1.0, 10):  # Adjust as needed\n",
    "        G = nx.Graph()\n",
    "\n",
    "        # Add edges if above threshold\n",
    "        rows, cols = np.where(similarity_matrix > threshold)\n",
    "        edges = zip(rows.tolist(), cols.tolist())\n",
    "        for i, j in edges:\n",
    "            if i < j:\n",
    "                G.add_edge(all_tokens[i], all_tokens[j], weight=similarity_matrix[i, j])\n",
    "\n",
    "        # Find communities\n",
    "        partition = community_louvain.best_partition(G, resolution=resolution)\n",
    "\n",
    "        # Count nodes per community\n",
    "        communities = {}\n",
    "        for node, community_id in partition.items():\n",
    "            if community_id not in communities:\n",
    "                communities[community_id] = []\n",
    "            communities[community_id].append(node)\n",
    "\n",
    "        num_communities = len(communities)\n",
    "        node_counts = [len(nodes) for nodes in communities.values()]\n",
    "\n",
    "        # Compute the custom metric\n",
    "        metric = custom_metric(num_communities, node_counts)\n",
    "\n",
    "        if metric > best_metric:\n",
    "            best_metric = metric\n",
    "            best_threshold = threshold\n",
    "            best_resolution = resolution\n",
    "            best_partition = partition\n",
    "\n",
    "print(f\"Best custom metric: {best_metric}\")\n",
    "print(f\"Best threshold: {best_threshold}\")\n",
    "print(f\"Best resolution: {best_resolution}\")\n",
    "\n",
    "# Use best_partition for your subsequent analyses\n",
    "\n"
   ]
  },
  {
   "cell_type": "markdown",
   "metadata": {},
   "source": [
    "- Best threshold: 0.65\n",
    "- Best resolution: 0.7"
   ]
  },
  {
   "cell_type": "markdown",
   "metadata": {},
   "source": [
    "### Clustering Metrics\n"
   ]
  },
  {
   "cell_type": "markdown",
   "metadata": {},
   "source": [
    "**Silhouette score**"
   ]
  },
  {
   "cell_type": "code",
   "execution_count": null,
   "metadata": {},
   "outputs": [],
   "source": [
    "from sklearn.metrics import silhouette_score\n",
    "import tqdm\n",
    "random_indices=np.random.randint(0,len(all_tokens),1000)\n",
    "\n",
    "subset_tokens=[all_tokens[i] for i in random_indices]\n",
    "subset_embeddings=word_embeddings[random_indices,]\n",
    "similarity_matrix = cosine_similarity(subset_embeddings)\n",
    "\n",
    "def compute_silhouette_score(X, labels):\n",
    "    return silhouette_score(X, labels)\n",
    "# Apply K-means clustering\n",
    "silh=list()\n",
    "n_clusters_desired = [10,30,50,100,200,300,400,500]\n",
    "for n in tqdm.tqdm(n_clusters_desired):\n",
    "    kmeans = KMeans(n_clusters=n, random_state=0)\n",
    "    labels_kmeans = kmeans.fit_predict(subset_embeddings)\n",
    "    silh.append(compute_silhouette_score(similarity_matrix,kmeans.labels_))\n",
    "\n",
    "print(silh)\n"
   ]
  },
  {
   "cell_type": "code",
   "execution_count": null,
   "metadata": {},
   "outputs": [],
   "source": [
    "\n",
    "# Create the figure and set the size\n",
    "plt.figure(figsize=(12, 6))\n",
    "\n",
    "# Create the scatter plot\n",
    "plt.scatter(n_clusters_desired, silh, c='blue', marker='o', edgecolors='black', linewidths=1)\n",
    "\n",
    "# Add title and labels with font customization\n",
    "plt.title('Silhouette Score of a Sample (10k) of BERT Embeddings for Different Number of Clusters for KMEANS', fontsize=14, fontweight='bold')\n",
    "plt.xlabel('Number of Clusters', fontsize=12)\n",
    "plt.ylabel('Silhouette Score', fontsize=12)\n",
    "\n",
    "# Add grid for better readability of the plot\n",
    "plt.grid(True, linestyle='--', linewidth=0.5, color='gray')\n",
    "\n",
    "# Optionally, you can add text annotations or other customizations here\n",
    "\n",
    "# Show the plot\n",
    "plt.show()\n"
   ]
  },
  {
   "cell_type": "code",
   "execution_count": 5,
   "metadata": {},
   "outputs": [
    {
     "name": "stderr",
     "output_type": "stream",
     "text": [
      "  0%|          | 0/8 [00:00<?, ?it/s]/home/gerard/.local/lib/python3.10/site-packages/sklearn/cluster/_agglomerative.py:1005: FutureWarning: Attribute `affinity` was deprecated in version 1.2 and will be removed in 1.4. Use `metric` instead\n",
      "  warnings.warn(\n",
      "/home/gerard/.local/lib/python3.10/site-packages/sklearn/cluster/_agglomerative.py:1005: FutureWarning: Attribute `affinity` was deprecated in version 1.2 and will be removed in 1.4. Use `metric` instead\n",
      "  warnings.warn(\n",
      " 12%|█▎        | 1/8 [00:00<00:02,  2.71it/s]/home/gerard/.local/lib/python3.10/site-packages/sklearn/cluster/_agglomerative.py:1005: FutureWarning: Attribute `affinity` was deprecated in version 1.2 and will be removed in 1.4. Use `metric` instead\n",
      "  warnings.warn(\n",
      "/home/gerard/.local/lib/python3.10/site-packages/sklearn/cluster/_agglomerative.py:1005: FutureWarning: Attribute `affinity` was deprecated in version 1.2 and will be removed in 1.4. Use `metric` instead\n",
      "  warnings.warn(\n",
      " 25%|██▌       | 2/8 [00:00<00:02,  2.89it/s]/home/gerard/.local/lib/python3.10/site-packages/sklearn/cluster/_agglomerative.py:1005: FutureWarning: Attribute `affinity` was deprecated in version 1.2 and will be removed in 1.4. Use `metric` instead\n",
      "  warnings.warn(\n",
      "/home/gerard/.local/lib/python3.10/site-packages/sklearn/cluster/_agglomerative.py:1005: FutureWarning: Attribute `affinity` was deprecated in version 1.2 and will be removed in 1.4. Use `metric` instead\n",
      "  warnings.warn(\n",
      " 38%|███▊      | 3/8 [00:01<00:01,  3.01it/s]/home/gerard/.local/lib/python3.10/site-packages/sklearn/cluster/_agglomerative.py:1005: FutureWarning: Attribute `affinity` was deprecated in version 1.2 and will be removed in 1.4. Use `metric` instead\n",
      "  warnings.warn(\n",
      "/home/gerard/.local/lib/python3.10/site-packages/sklearn/cluster/_agglomerative.py:1005: FutureWarning: Attribute `affinity` was deprecated in version 1.2 and will be removed in 1.4. Use `metric` instead\n",
      "  warnings.warn(\n",
      " 50%|█████     | 4/8 [00:01<00:01,  2.91it/s]/home/gerard/.local/lib/python3.10/site-packages/sklearn/cluster/_agglomerative.py:1005: FutureWarning: Attribute `affinity` was deprecated in version 1.2 and will be removed in 1.4. Use `metric` instead\n",
      "  warnings.warn(\n",
      "/home/gerard/.local/lib/python3.10/site-packages/sklearn/cluster/_agglomerative.py:1005: FutureWarning: Attribute `affinity` was deprecated in version 1.2 and will be removed in 1.4. Use `metric` instead\n",
      "  warnings.warn(\n",
      " 62%|██████▎   | 5/8 [00:01<00:01,  2.95it/s]/home/gerard/.local/lib/python3.10/site-packages/sklearn/cluster/_agglomerative.py:1005: FutureWarning: Attribute `affinity` was deprecated in version 1.2 and will be removed in 1.4. Use `metric` instead\n",
      "  warnings.warn(\n",
      "/home/gerard/.local/lib/python3.10/site-packages/sklearn/cluster/_agglomerative.py:1005: FutureWarning: Attribute `affinity` was deprecated in version 1.2 and will be removed in 1.4. Use `metric` instead\n",
      "  warnings.warn(\n",
      " 75%|███████▌  | 6/8 [00:02<00:00,  3.02it/s]/home/gerard/.local/lib/python3.10/site-packages/sklearn/cluster/_agglomerative.py:1005: FutureWarning: Attribute `affinity` was deprecated in version 1.2 and will be removed in 1.4. Use `metric` instead\n",
      "  warnings.warn(\n",
      "/home/gerard/.local/lib/python3.10/site-packages/sklearn/cluster/_agglomerative.py:1005: FutureWarning: Attribute `affinity` was deprecated in version 1.2 and will be removed in 1.4. Use `metric` instead\n",
      "  warnings.warn(\n",
      " 88%|████████▊ | 7/8 [00:02<00:00,  3.06it/s]/home/gerard/.local/lib/python3.10/site-packages/sklearn/cluster/_agglomerative.py:1005: FutureWarning: Attribute `affinity` was deprecated in version 1.2 and will be removed in 1.4. Use `metric` instead\n",
      "  warnings.warn(\n",
      "/home/gerard/.local/lib/python3.10/site-packages/sklearn/cluster/_agglomerative.py:1005: FutureWarning: Attribute `affinity` was deprecated in version 1.2 and will be removed in 1.4. Use `metric` instead\n",
      "  warnings.warn(\n",
      "100%|██████████| 8/8 [00:02<00:00,  2.99it/s]\n"
     ]
    },
    {
     "data": {
      "image/png": "[encoded data removed]",
      "text/plain": [
       "<Figure size 1200x600 with 1 Axes>"
      ]
     },
     "metadata": {},
     "output_type": "display_data"
    }
   ],
   "source": [
    "from sklearn.metrics import silhouette_score\n",
    "import tqdm\n",
    "random_indices=np.random.randint(0,len(all_tokens),1000)\n",
    "\n",
    "subset_tokens=[all_tokens[i] for i in random_indices]\n",
    "subset_embeddings=word_embeddings[random_indices,]\n",
    "similarity_matrix = cosine_similarity(subset_embeddings)\n",
    "\n",
    "def compute_silhouette_score(X, labels):\n",
    "    return silhouette_score(X, labels)\n",
    "# Apply K-means clustering\n",
    "silh=list()\n",
    "n_clusters_desired = [10,30,50,100,200,300,400,500]\n",
    "for n in tqdm.tqdm(n_clusters_desired):\n",
    "    cluster_agglomerative = AgglomerativeClustering(affinity='euclidean',n_clusters=n ,linkage='ward')\n",
    "    cluster_agglomerative.fit(subset_embeddings)\n",
    "    labels_agglomerative = cluster_agglomerative.fit_predict(subset_embeddings)\n",
    "    silh.append(compute_silhouette_score(similarity_matrix,cluster_agglomerative.labels_))\n",
    "\n",
    "# Create the figure and set the size\n",
    "plt.figure(figsize=(12, 6))\n",
    "\n",
    "# Create the scatter plot\n",
    "plt.scatter(n_clusters_desired, silh, c='blue', marker='o', edgecolors='black', linewidths=1)\n",
    "\n",
    "# Add title and labels with font customization\n",
    "plt.title('Silhouette Score of a Sample (10k) of BERT Embeddings for Different Number of Clusters for Agglomerative', fontsize=14, fontweight='bold')\n",
    "plt.xlabel('Number of Clusters', fontsize=12)\n",
    "plt.ylabel('Silhouette Score', fontsize=12)\n",
    "\n",
    "# Add grid for better readability of the plot\n",
    "plt.grid(True, linestyle='--', linewidth=0.5, color='gray')\n",
    "\n",
    "# Optionally, you can add text annotations or other customizations here\n",
    "\n",
    "# Show the plot\n",
    "plt.show()"
   ]
  },
  {
   "cell_type": "markdown",
   "metadata": {},
   "source": [
    "**Cluster stability**"
   ]
  },
  {
   "cell_type": "code",
   "execution_count": null,
   "metadata": {},
   "outputs": [],
   "source": [
    "from sklearn.utils import resample\n",
    "from sklearn.metrics import adjusted_rand_score\n",
    "import numpy as np\n",
    "\n",
    "def compute_cluster_stability(model, X, n_iterations=10):\n",
    "    base_labels = model.fit_predict(X)\n",
    "    stability_scores = []\n",
    "\n",
    "    for i in range(n_iterations):\n",
    "        X_resampled = resample(X)\n",
    "        new_labels = model.fit_predict(X_resampled)\n",
    "        \n",
    "        # Compute the Adjusted Rand Index for stability\n",
    "        stability = adjusted_rand_score(base_labels, new_labels)\n",
    "        stability_scores.append(stability)\n",
    "        \n",
    "    return np.mean(stability_scores)\n",
    "\n",
    "\n"
   ]
  },
  {
   "cell_type": "code",
   "execution_count": null,
   "metadata": {},
   "outputs": [],
   "source": [
    "n_clusters_desired = 50\n",
    "random_indices=np.random.randint(0,len(all_tokens),1000)\n",
    "subset_tokens=[all_tokens[i] for i in random_indices]\n",
    "subset_embeddings=word_embeddings[random_indices,]\n",
    "similarity_matrix = cosine_similarity(subset_embeddings)\n",
    "kmeans = KMeans(n_clusters=n_clusters_desired, random_state=0)\n",
    "labels_kmeans = kmeans.fit_predict(subset_embeddings)\n",
    "stability_score = compute_cluster_stability(kmeans, similarity_matrix)\n",
    "print(\"Cluster Stability Score:\", stability_score)"
   ]
  },
  {
   "cell_type": "markdown",
   "metadata": {},
   "source": [
    "**Modularity**"
   ]
  },
  {
   "cell_type": "code",
   "execution_count": null,
   "metadata": {},
   "outputs": [],
   "source": [
    "import networkx as nx\n",
    "\n",
    "def compute_modularity(G, communities):\n",
    "    return nx.algorithms.community.modularity(G, communities)"
   ]
  },
  {
   "cell_type": "code",
   "execution_count": null,
   "metadata": {},
   "outputs": [],
   "source": [
    "compute_modularity(G, communities)"
   ]
  },
  {
   "cell_type": "markdown",
   "metadata": {},
   "source": [
    "**Normalized Gap**"
   ]
  },
  {
   "cell_type": "code",
   "execution_count": null,
   "metadata": {},
   "outputs": [],
   "source": [
    "from sklearn.cluster import KMeans\n",
    "import numpy as np\n",
    "from sklearn.datasets import make_blobs\n",
    "import scipy.spatial\n",
    "\n",
    "# Generate synthetic data for demonstration\n",
    "X, y = make_blobs(n_samples=500, centers=4, random_state=42)\n",
    "\n",
    "def compute_inertia(X, labels):\n",
    "    inertia = 0\n",
    "    for center in np.unique(labels):\n",
    "        mask = labels == center\n",
    "        inertia += scipy.spatial.distance.cdist(X[mask], X[mask]).sum()\n",
    "    return inertia\n",
    "\n",
    "def compute_gap_statistic(X, n_clusters, n_iterations=10):\n",
    "    # Step 1: Run clustering on actual data\n",
    "    kmeans = KMeans(n_clusters=n_clusters)\n",
    "    kmeans.fit(X)\n",
    "    actual_inertia = compute_inertia(X, kmeans.labels_)\n",
    "    \n",
    "    # Step 2: Generate random datasets and compute their inertias\n",
    "    random_inertias = []\n",
    "    for i in range(n_iterations):\n",
    "        random_data = np.random.random_sample(size=X.shape)\n",
    "        kmeans.fit(random_data)\n",
    "        random_inertia = compute_inertia(random_data, kmeans.labels_)\n",
    "        random_inertias.append(random_inertia)\n",
    "        \n",
    "    expected_inertia = np.mean(random_inertias)\n",
    "    sd_inertia = np.std(random_inertias)\n",
    "    \n",
    "    # Step 3: Compute the Gap statistic\n",
    "    gap = np.log(expected_inertia) - np.log(actual_inertia)\n",
    "    normalized_gap = gap / sd_inertia\n",
    "    \n",
    "    return normalized_gap\n",
    "\n",
    "# Example\n",
    "n_clusters = 4\n",
    "normalized_gap = compute_gap_statistic(X, n_clusters)\n",
    "print(f\"Normalized Gap statistic: {normalized_gap}\")\n"
   ]
  },
  {
   "cell_type": "markdown",
   "metadata": {},
   "source": [
    "**Eigenvalue Gap**"
   ]
  },
  {
   "cell_type": "code",
   "execution_count": null,
   "metadata": {},
   "outputs": [],
   "source": [
    "import numpy as np\n",
    "\n",
    "def compute_eigenvalue_gap(Laplacian):\n",
    "    eigenvalues = np.linalg.eigvals(Laplacian)\n",
    "    eigenvalues = np.sort(eigenvalues)\n",
    "    gaps = eigenvalues[1:] - eigenvalues[:-1]\n",
    "    return np.argmax(gaps)"
   ]
  },
  {
   "cell_type": "markdown",
   "metadata": {},
   "source": [
    "### Jaccard vs Cosine"
   ]
  },
  {
   "cell_type": "markdown",
   "metadata": {},
   "source": [
    "- Eliminar los tokens que son demasiado cortos (minimo 4 letras)\n",
    "- Cada fila cojer los tokens con una distancia de edicion minima de {1,2,3,4,..,max(min edit distance)}\n",
    "- Calcular la distancia coseno de cada fila para cada distancia\n",
    "- Hacer lo propio para todas las filas \n",
    "- Crear un plot con n histogramas donde n es la maxima min edit distance overall"
   ]
  },
  {
   "cell_type": "code",
   "execution_count": null,
   "metadata": {},
   "outputs": [],
   "source": [
    "from Levenshtein import distance\n",
    "from sklearn.metrics.pairwise import cosine_similarity\n",
    "import numpy as np\n",
    "from collections import defaultdict\n",
    "import tqdm\n",
    "\n",
    "filtered_tokens=[token for token in all_tokens if len(token)>3]\n",
    "filtered_embeddings=[word_embeddings[i] for i in range(len(word_embeddings)) if len(all_tokens[i])>3]\n",
    "\n",
    "# Compute pairwise minimum edit distance\n",
    "def compute_pairwise_distances(tokens):\n",
    "    n = len(tokens)\n",
    "    dist_matrix = np.zeros((n, n))\n",
    "    \n",
    "    for i in tqdm.tqdm(range(n)):\n",
    "        for j in range(i+1, n):\n",
    "            dist = distance(tokens[i], tokens[j])\n",
    "            dist_matrix[i, j] = dist\n",
    "            dist_matrix[j, i] = dist\n",
    "            \n",
    "    return dist_matrix\n",
    "\n",
    "# Precompute cosine similarities\n",
    "def precompute_cosine_similarity(embeddings):\n",
    "    return cosine_similarity(embeddings)\n",
    "\n",
    "# Group distances and compute average cosine similarity\n",
    "def group_and_average(embeddings, dist_matrix, precomputed_cosine_similarity):\n",
    "    n = len(embeddings)\n",
    "    results = {}\n",
    "    \n",
    "    for i in tqdm.tqdm(range(n)):\n",
    "        distance_groups = defaultdict(list)\n",
    "        \n",
    "        for j in range(n):\n",
    "            if i != j:  # Skip self-comparison\n",
    "                dist = dist_matrix[i, j]\n",
    "                cos_sim = precomputed_cosine_similarity[i, j]\n",
    "                distance_groups[dist].append(cos_sim)\n",
    "                \n",
    "        average_similarities = {k: np.mean(v) for k, v in distance_groups.items()}\n",
    "        results[i] = average_similarities\n",
    "        \n",
    "    return results\n",
    "\n",
    "# Compute pairwise minimum edit distances\n",
    "dist_matrix = compute_pairwise_distances(filtered_tokens)\n",
    "\n",
    "# Precompute cosine similarities\n",
    "precomputed_cosine_similarity = precompute_cosine_similarity(filtered_embeddings)\n",
    "\n",
    "# Group by minimum edit distance and average cosine similarities\n",
    "average_similarities_per_row = group_and_average(filtered_embeddings, dist_matrix, precomputed_cosine_similarity)\n",
    "\n",
    "\n",
    "\n"
   ]
  },
  {
   "cell_type": "code",
   "execution_count": null,
   "metadata": {},
   "outputs": [],
   "source": [
    "import matplotlib.pyplot as plt\n",
    "def create_boxplots(average_similarities_per_row):\n",
    "    unique_distances = set()\n",
    "\n",
    "    # Get all unique minimum edit distances\n",
    "    for _, avg_sims in average_similarities_per_row.items():\n",
    "        unique_distances.update(avg_sims.keys())\n",
    "        \n",
    "    unique_distances = sorted(list(unique_distances))\n",
    "\n",
    "    # Prepare data for each unique distance\n",
    "    boxplot_data = []\n",
    "\n",
    "    for dist in unique_distances:\n",
    "        values = []\n",
    "        \n",
    "        for _, avg_sims in average_similarities_per_row.items():\n",
    "            if dist in avg_sims:\n",
    "                values.append(avg_sims[dist])\n",
    "                \n",
    "        boxplot_data.append(values)\n",
    "\n",
    "    # Create the boxplot\n",
    "    plt.figure(figsize=(12, 6))\n",
    "    plt.boxplot(boxplot_data, labels=[str(dist) for dist in unique_distances])\n",
    "    plt.title('Average Cosine Similarities for Different Min Edit Distances')\n",
    "    plt.xlabel('Min Edit Distance')\n",
    "    plt.ylabel('Average Cosine Similarity')\n",
    "    plt.show()\n",
    "\n",
    "# Call the function to create boxplots\n",
    "create_boxplots(average_similarities_per_row)\n",
    "\n"
   ]
  },
  {
   "cell_type": "code",
   "execution_count": null,
   "metadata": {},
   "outputs": [],
   "source": [
    "import pandas as pd\n",
    "\n",
    "# Convert average_similarities_per_row to DataFrame\n",
    "# This is a dummy code snippet; you may have to adapt it to your data structure\n",
    "df_list = []\n",
    "for i, avg_sim in average_similarities_per_row.items():\n",
    "    for dist, sim in avg_sim.items():\n",
    "        df_list.append({'Min Edit Distance': dist, 'Average Cosine Similarity': sim})\n",
    "df = pd.DataFrame(df_list)\n",
    "\n",
    "# Now try plotting\n",
    "import seaborn as sns\n",
    "sns.violinplot(x='Min Edit Distance', y='Average Cosine Similarity', data=df)\n"
   ]
  },
  {
   "cell_type": "markdown",
   "metadata": {},
   "source": []
  },
  {
   "cell_type": "code",
   "execution_count": null,
   "metadata": {},
   "outputs": [],
   "source": []
  }
 ],
 "metadata": {
  "kernelspec": {
   "display_name": "base",
   "language": "python",
   "name": "python3"
  },
  "language_info": {
   "codemirror_mode": {
    "name": "ipython",
    "version": 3
   },
   "file_extension": ".py",
   "mimetype": "text/x-python",
   "name": "python",
   "nbconvert_exporter": "python",
   "pygments_lexer": "ipython3",
   "version": "3.10.9"
  },
  "orig_nbformat": 4
 },
 "nbformat": 4,
 "nbformat_minor": 2
}
